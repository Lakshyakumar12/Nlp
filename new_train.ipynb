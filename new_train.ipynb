{
 "cells": [
  {
   "cell_type": "code",
   "execution_count": 4,
   "metadata": {},
   "outputs": [],
   "source": [
    "import random\n",
    "import json\n",
    "def select_random_data(input_file, output_file, num_points=5000):\n",
    "    # Load data from input JSON file\n",
    "    with open(input_file, 'r', encoding='utf-8') as f:\n",
    "        data = json.load(f)\n",
    "\n",
    "    # Shuffle the data points\n",
    "    random.shuffle(data)\n",
    "\n",
    "    # Select a random subset of the data\n",
    "    selected_data = data[:num_points]\n",
    "\n",
    "    # Save the selected data to the output JSON file\n",
    "    with open(output_file, 'w', encoding='utf-8') as f:\n",
    "        json.dump(selected_data, f, ensure_ascii=False, indent=4)\n",
    "\n",
    "# Example usage\n",
    "input_json_file = 'labeled_datanew.json'\n",
    "output_json_file = 'newtrain_data.json'\n",
    "select_random_data(input_json_file, output_json_file)"
   ]
  }
 ],
 "metadata": {
  "kernelspec": {
   "display_name": "Python 3",
   "language": "python",
   "name": "python3"
  },
  "language_info": {
   "codemirror_mode": {
    "name": "ipython",
    "version": 3
   },
   "file_extension": ".py",
   "mimetype": "text/x-python",
   "name": "python",
   "nbconvert_exporter": "python",
   "pygments_lexer": "ipython3",
   "version": "3.10.2"
  }
 },
 "nbformat": 4,
 "nbformat_minor": 2
}
